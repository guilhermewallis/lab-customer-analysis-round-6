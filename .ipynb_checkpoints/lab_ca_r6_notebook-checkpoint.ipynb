{
 "cells": [
  {
   "cell_type": "code",
   "execution_count": 75,
   "id": "f44e58e3",
   "metadata": {},
   "outputs": [],
   "source": [
    "import numpy as np\n",
    "import pandas as pd\n",
    "\n",
    "import matplotlib as mpl\n",
    "import matplotlib.pyplot as plt\n",
    "\n",
    "import seaborn as sns\n",
    "import seaborn.objects as so\n",
    "\n",
    "from sklearn.linear_model import LinearRegression\n",
    "from sklearn.model_selection import train_test_split\n",
    "from sklearn.preprocessing import OneHotEncoder, Normalizer, StandardScaler, MinMaxScaler\n",
    "from sklearn.metrics import mean_squared_error, r2_score, mean_absolute_error\n",
    "\n",
    "df = pd.read_csv('files_for_lab/csv_files/marketing_customer_analysis.csv')\n",
    "df.columns = df.columns.str.lower().str.replace(' ', '_')"
   ]
  },
  {
   "cell_type": "code",
   "execution_count": 162,
   "id": "bdb8c261",
   "metadata": {},
   "outputs": [],
   "source": [
    "x = df.drop([\"customer\", \"total_claim_amount\", 'effective_to_date'], axis=1)\n",
    "y = df[\"total_claim_amount\"]\n",
    "\n",
    "x_num = x.select_dtypes(np.number)\n",
    "scaler = StandardScaler()\n",
    "scaler.fit(x_num)\n",
    "x_num_scaled = scaler.transform(x_num)\n",
    "x_num_scaled = pd.DataFrame(x_num_scaled, columns = x_num.columns)"
   ]
  },
  {
   "cell_type": "code",
   "execution_count": 164,
   "id": "57a32144",
   "metadata": {
    "scrolled": true
   },
   "outputs": [],
   "source": [
    "#One Hot/Label Encoding (categorical).\n",
    "x_cat = x.select_dtypes('object')\n",
    "\n",
    "encoder = OneHotEncoder(drop='first')\n",
    "encoder.fit(x_cat)\n",
    "\n",
    "cols = []\n",
    "for i in range(len(encoder.categories_)):\n",
    "    cols += list(encoder.categories_[i])[1:]\n",
    "\n",
    "og_cols = len(x_cat.columns)\n",
    "x_cat[cols] = encoder.transform(x_cat).todense()\n",
    "x_cat = x_cat.drop(x_cat.columns[:og_cols], axis=1)"
   ]
  },
  {
   "cell_type": "code",
   "execution_count": 166,
   "id": "7d1aba0b",
   "metadata": {
    "scrolled": false
   },
   "outputs": [],
   "source": [
    "#Concat DataFrames\n",
    "x_concat = pd.concat([x_num_scaled, x_cat], axis=1)"
   ]
  },
  {
   "cell_type": "code",
   "execution_count": 169,
   "id": "6585d1a9",
   "metadata": {},
   "outputs": [],
   "source": [
    "#Train-test split.\n",
    "x_train, x_test, y_train, y_test = train_test_split(x_concat, y, test_size=0.3, random_state=42)"
   ]
  },
  {
   "cell_type": "code",
   "execution_count": 170,
   "id": "d9fc8ec9",
   "metadata": {},
   "outputs": [],
   "source": [
    "#Apply linear regression.\n",
    "lm = LinearRegression()\n",
    "lm.fit(x_train, y_train)\n",
    "\n",
    "predictions = lm.predict(x_test)"
   ]
  },
  {
   "cell_type": "code",
   "execution_count": 172,
   "id": "ee269136",
   "metadata": {},
   "outputs": [
    {
     "name": "stdout",
     "output_type": "stream",
     "text": [
      "R2_score: 0.77\n",
      "MSE: 19182.508693113658\n",
      "RMSE: 138.50093390700894\n",
      "MAE: 94.52272816801205\n"
     ]
    }
   ],
   "source": [
    "#Description: \n",
    "print(\"R2_score:\", round(r2_score(y_test, predictions), 2)) \n",
    "\n",
    "mse = mean_squared_error(y_test, predictions)\n",
    "print(\"MSE:\", mse)\n",
    "\n",
    "rmse = mean_squared_error(y_test, predictions, squared=False)\n",
    "print(\"RMSE:\", rmse)\n",
    "\n",
    "mae = mean_absolute_error(y_test, predictions)\n",
    "print(\"MAE:\", mae)"
   ]
  }
 ],
 "metadata": {
  "kernelspec": {
   "display_name": "Python 3 (ipykernel)",
   "language": "python",
   "name": "python3"
  },
  "language_info": {
   "codemirror_mode": {
    "name": "ipython",
    "version": 3
   },
   "file_extension": ".py",
   "mimetype": "text/x-python",
   "name": "python",
   "nbconvert_exporter": "python",
   "pygments_lexer": "ipython3",
   "version": "3.10.9"
  }
 },
 "nbformat": 4,
 "nbformat_minor": 5
}
